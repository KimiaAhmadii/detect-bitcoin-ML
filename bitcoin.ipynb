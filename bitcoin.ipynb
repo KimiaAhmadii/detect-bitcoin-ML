{
 "cells": [
  {
   "cell_type": "code",
   "execution_count": 80,
   "metadata": {},
   "outputs": [
    {
     "name": "stdout",
     "output_type": "stream",
     "text": [
      "Using matplotlib backend: TkAgg\n"
     ]
    }
   ],
   "source": [
    "import pandas as pd \n",
    "import matplotlib.pyplot as plt\n",
    "import warnings\n",
    "import seaborn as sb\n",
    "import numpy as np\n",
    "%matplotlib \n",
    "from sklearn.model_selection import train_test_split\n",
    "from sklearn.preprocessing import StandardScaler\n",
    "from sklearn.linear_model import LogisticRegression\n",
    "from sklearn.tree import DecisionTreeClassifier\n",
    "from sklearn.neighbors import KNeighborsClassifier\n",
    "from sklearn.svm    import   SVC\n",
    "from sklearn import metrics\n"
   ]
  },
  {
   "cell_type": "code",
   "execution_count": 81,
   "metadata": {},
   "outputs": [],
   "source": [
    "warnings.filterwarnings('ignore')\n",
    "data = pd.read_csv('bitcoin.csv')"
   ]
  },
  {
   "cell_type": "code",
   "execution_count": 4,
   "metadata": {},
   "outputs": [
    {
     "data": {
      "text/html": [
       "<div>\n",
       "<style scoped>\n",
       "    .dataframe tbody tr th:only-of-type {\n",
       "        vertical-align: middle;\n",
       "    }\n",
       "\n",
       "    .dataframe tbody tr th {\n",
       "        vertical-align: top;\n",
       "    }\n",
       "\n",
       "    .dataframe thead th {\n",
       "        text-align: right;\n",
       "    }\n",
       "</style>\n",
       "<table border=\"1\" class=\"dataframe\">\n",
       "  <thead>\n",
       "    <tr style=\"text-align: right;\">\n",
       "      <th></th>\n",
       "      <th>Open</th>\n",
       "      <th>High</th>\n",
       "      <th>Low</th>\n",
       "      <th>Close</th>\n",
       "    </tr>\n",
       "  </thead>\n",
       "  <tbody>\n",
       "    <tr>\n",
       "      <th>count</th>\n",
       "      <td>3793.000000</td>\n",
       "      <td>3793.000000</td>\n",
       "      <td>3793.000000</td>\n",
       "      <td>3793.000000</td>\n",
       "    </tr>\n",
       "    <tr>\n",
       "      <th>mean</th>\n",
       "      <td>11233.252307</td>\n",
       "      <td>11529.297996</td>\n",
       "      <td>10904.581545</td>\n",
       "      <td>11240.315766</td>\n",
       "    </tr>\n",
       "    <tr>\n",
       "      <th>std</th>\n",
       "      <td>15421.568722</td>\n",
       "      <td>15827.119004</td>\n",
       "      <td>14960.319732</td>\n",
       "      <td>15422.533996</td>\n",
       "    </tr>\n",
       "    <tr>\n",
       "      <th>min</th>\n",
       "      <td>13.300000</td>\n",
       "      <td>13.400000</td>\n",
       "      <td>13.200000</td>\n",
       "      <td>13.300000</td>\n",
       "    </tr>\n",
       "    <tr>\n",
       "      <th>25%</th>\n",
       "      <td>450.300000</td>\n",
       "      <td>459.600000</td>\n",
       "      <td>441.900000</td>\n",
       "      <td>451.400000</td>\n",
       "    </tr>\n",
       "    <tr>\n",
       "      <th>50%</th>\n",
       "      <td>5208.300000</td>\n",
       "      <td>5322.900000</td>\n",
       "      <td>5033.700000</td>\n",
       "      <td>5209.100000</td>\n",
       "    </tr>\n",
       "    <tr>\n",
       "      <th>75%</th>\n",
       "      <td>14976.200000</td>\n",
       "      <td>15648.300000</td>\n",
       "      <td>13902.300000</td>\n",
       "      <td>15043.000000</td>\n",
       "    </tr>\n",
       "    <tr>\n",
       "      <th>max</th>\n",
       "      <td>67528.700000</td>\n",
       "      <td>68990.600000</td>\n",
       "      <td>66334.900000</td>\n",
       "      <td>67527.900000</td>\n",
       "    </tr>\n",
       "  </tbody>\n",
       "</table>\n",
       "</div>"
      ],
      "text/plain": [
       "               Open          High           Low         Close\n",
       "count   3793.000000   3793.000000   3793.000000   3793.000000\n",
       "mean   11233.252307  11529.297996  10904.581545  11240.315766\n",
       "std    15421.568722  15827.119004  14960.319732  15422.533996\n",
       "min       13.300000     13.400000     13.200000     13.300000\n",
       "25%      450.300000    459.600000    441.900000    451.400000\n",
       "50%     5208.300000   5322.900000   5033.700000   5209.100000\n",
       "75%    14976.200000  15648.300000  13902.300000  15043.000000\n",
       "max    67528.700000  68990.600000  66334.900000  67527.900000"
      ]
     },
     "execution_count": 4,
     "metadata": {},
     "output_type": "execute_result"
    }
   ],
   "source": [
    "data.describe()"
   ]
  },
  {
   "cell_type": "code",
   "execution_count": 6,
   "metadata": {},
   "outputs": [
    {
     "name": "stdout",
     "output_type": "stream",
     "text": [
      "<class 'pandas.core.frame.DataFrame'>\n",
      "RangeIndex: 3793 entries, 0 to 3792\n",
      "Data columns (total 6 columns):\n",
      " #   Column  Non-Null Count  Dtype  \n",
      "---  ------  --------------  -----  \n",
      " 0   Date    3793 non-null   object \n",
      " 1   Open    3793 non-null   float64\n",
      " 2   High    3793 non-null   float64\n",
      " 3   Low     3793 non-null   float64\n",
      " 4   Close   3793 non-null   float64\n",
      " 5   Vol.    3793 non-null   object \n",
      "dtypes: float64(4), object(2)\n",
      "memory usage: 177.9+ KB\n"
     ]
    }
   ],
   "source": [
    "data.info()"
   ]
  },
  {
   "cell_type": "code",
   "execution_count": 9,
   "metadata": {},
   "outputs": [],
   "source": [
    "plt.close()\n",
    "plt.figure(figsize=(12,5))\n",
    "plt.plot(data['Close'])\n",
    "plt.title('Bitcoin close price',fontsize=15)\n",
    "plt.ylabel('price in doller ')\n",
    "plt.show ()\n"
   ]
  },
  {
   "cell_type": "code",
   "execution_count": 5,
   "metadata": {},
   "outputs": [
    {
     "data": {
      "text/plain": [
       "Date     0\n",
       "Open     0\n",
       "High     0\n",
       "Low      0\n",
       "Close    0\n",
       "Vol.     0\n",
       "dtype: int64"
      ]
     },
     "execution_count": 5,
     "metadata": {},
     "output_type": "execute_result"
    }
   ],
   "source": [
    "data.isnull().sum()"
   ]
  },
  {
   "cell_type": "code",
   "execution_count": 82,
   "metadata": {},
   "outputs": [],
   "source": [
    "feature= ['Open','High','Low','Close']\n",
    "plt.close()\n",
    "plt.subplots(figsize=(10,10))\n",
    "for i,col in enumerate(feature):\n",
    "    plt.subplot(2,2,i+1)\n",
    "    sb.distplot(data[col])\n",
    "plt.show()"
   ]
  },
  {
   "cell_type": "code",
   "execution_count": 83,
   "metadata": {},
   "outputs": [],
   "source": [
    "splitted= data['Date'].str.split('-',expand=True)\n",
    "data['year']=splitted[0].astype('int')\n",
    "data['month']=splitted[1].astype('int')\n",
    "data['day']=splitted[2].astype('int')\n"
   ]
  },
  {
   "cell_type": "code",
   "execution_count": 58,
   "metadata": {},
   "outputs": [
    {
     "data": {
      "text/html": [
       "<div>\n",
       "<style scoped>\n",
       "    .dataframe tbody tr th:only-of-type {\n",
       "        vertical-align: middle;\n",
       "    }\n",
       "\n",
       "    .dataframe tbody tr th {\n",
       "        vertical-align: top;\n",
       "    }\n",
       "\n",
       "    .dataframe thead th {\n",
       "        text-align: right;\n",
       "    }\n",
       "</style>\n",
       "<table border=\"1\" class=\"dataframe\">\n",
       "  <thead>\n",
       "    <tr style=\"text-align: right;\">\n",
       "      <th></th>\n",
       "      <th>Date</th>\n",
       "      <th>Open</th>\n",
       "      <th>High</th>\n",
       "      <th>Low</th>\n",
       "      <th>Close</th>\n",
       "      <th>Vol.</th>\n",
       "      <th>year</th>\n",
       "      <th>month</th>\n",
       "      <th>day</th>\n",
       "      <th>is_quarter_end</th>\n",
       "      <th>Open -Close</th>\n",
       "      <th>Low -High</th>\n",
       "      <th>target</th>\n",
       "    </tr>\n",
       "  </thead>\n",
       "  <tbody>\n",
       "    <tr>\n",
       "      <th>0</th>\n",
       "      <td>2013-01-01</td>\n",
       "      <td>13.5</td>\n",
       "      <td>13.6</td>\n",
       "      <td>13.2</td>\n",
       "      <td>13.3</td>\n",
       "      <td>28.41K</td>\n",
       "      <td>2013</td>\n",
       "      <td>1</td>\n",
       "      <td>1</td>\n",
       "      <td>0</td>\n",
       "      <td>0.2</td>\n",
       "      <td>-0.4</td>\n",
       "      <td>0</td>\n",
       "    </tr>\n",
       "    <tr>\n",
       "      <th>1</th>\n",
       "      <td>2013-01-02</td>\n",
       "      <td>13.3</td>\n",
       "      <td>13.4</td>\n",
       "      <td>13.2</td>\n",
       "      <td>13.3</td>\n",
       "      <td>17.97K</td>\n",
       "      <td>2013</td>\n",
       "      <td>1</td>\n",
       "      <td>2</td>\n",
       "      <td>0</td>\n",
       "      <td>0.0</td>\n",
       "      <td>-0.2</td>\n",
       "      <td>1</td>\n",
       "    </tr>\n",
       "    <tr>\n",
       "      <th>2</th>\n",
       "      <td>2013-01-03</td>\n",
       "      <td>13.3</td>\n",
       "      <td>13.5</td>\n",
       "      <td>13.3</td>\n",
       "      <td>13.4</td>\n",
       "      <td>18.03K</td>\n",
       "      <td>2013</td>\n",
       "      <td>1</td>\n",
       "      <td>3</td>\n",
       "      <td>0</td>\n",
       "      <td>-0.1</td>\n",
       "      <td>-0.2</td>\n",
       "      <td>1</td>\n",
       "    </tr>\n",
       "    <tr>\n",
       "      <th>3</th>\n",
       "      <td>2013-01-04</td>\n",
       "      <td>13.4</td>\n",
       "      <td>13.5</td>\n",
       "      <td>13.3</td>\n",
       "      <td>13.5</td>\n",
       "      <td>29.64K</td>\n",
       "      <td>2013</td>\n",
       "      <td>1</td>\n",
       "      <td>4</td>\n",
       "      <td>0</td>\n",
       "      <td>-0.1</td>\n",
       "      <td>-0.2</td>\n",
       "      <td>0</td>\n",
       "    </tr>\n",
       "    <tr>\n",
       "      <th>4</th>\n",
       "      <td>2013-01-05</td>\n",
       "      <td>13.5</td>\n",
       "      <td>13.6</td>\n",
       "      <td>13.3</td>\n",
       "      <td>13.4</td>\n",
       "      <td>21.33K</td>\n",
       "      <td>2013</td>\n",
       "      <td>1</td>\n",
       "      <td>5</td>\n",
       "      <td>0</td>\n",
       "      <td>0.1</td>\n",
       "      <td>-0.3</td>\n",
       "      <td>0</td>\n",
       "    </tr>\n",
       "  </tbody>\n",
       "</table>\n",
       "</div>"
      ],
      "text/plain": [
       "         Date  Open  High   Low  Close    Vol.  year  month  day  \\\n",
       "0  2013-01-01  13.5  13.6  13.2   13.3  28.41K  2013      1    1   \n",
       "1  2013-01-02  13.3  13.4  13.2   13.3  17.97K  2013      1    2   \n",
       "2  2013-01-03  13.3  13.5  13.3   13.4  18.03K  2013      1    3   \n",
       "3  2013-01-04  13.4  13.5  13.3   13.5  29.64K  2013      1    4   \n",
       "4  2013-01-05  13.5  13.6  13.3   13.4  21.33K  2013      1    5   \n",
       "\n",
       "   is_quarter_end  Open -Close  Low -High  target  \n",
       "0               0          0.2       -0.4       0  \n",
       "1               0          0.0       -0.2       1  \n",
       "2               0         -0.1       -0.2       1  \n",
       "3               0         -0.1       -0.2       0  \n",
       "4               0          0.1       -0.3       0  "
      ]
     },
     "execution_count": 58,
     "metadata": {},
     "output_type": "execute_result"
    }
   ],
   "source": [
    "data.head()"
   ]
  },
  {
   "cell_type": "code",
   "execution_count": 84,
   "metadata": {},
   "outputs": [],
   "source": [
    "data_grouped= data.groupby('year').mean()\n",
    "\n",
    "plt.close()\n",
    "#plt.subplots(figsize=(10,10))\n",
    "feature= ['Open','High','Low','Close']\n",
    "for i,col in enumerate(feature):\n",
    "    plt.subplot(2,2,i+1)\n",
    "    data_grouped[col].plot.bar\n",
    "plt.show()"
   ]
  },
  {
   "cell_type": "code",
   "execution_count": 85,
   "metadata": {},
   "outputs": [],
   "source": [
    "data['is_quarter_end'] = np.where (data['month']%3==0,1,0)\n",
    "data[\"Open -Close\"]=data[\"Open\"]-data[\"Close\"]\n",
    "data[\"Low -High\"]=data[\"Low\"]-data[\"High\"]\n",
    "data['target']=np.where(data['Close'].shift(-1)>data['Close'],1,0)\n"
   ]
  },
  {
   "cell_type": "code",
   "execution_count": 89,
   "metadata": {},
   "outputs": [],
   "source": [
    "feature= data[[\"Open -Close\",\"Low -High\",\"is_quarter_end\"]]\n",
    "target= data['target']\n",
    "scaler= StandardScaler()\n",
    "feature= scaler.fit_transform(feature)\n",
    "x_train,x_valid , y_train,y_valid= train_test_split(feature,target,test_size=0.2)"
   ]
  },
  {
   "cell_type": "code",
   "execution_count": 102,
   "metadata": {},
   "outputs": [
    {
     "name": "stdout",
     "output_type": "stream",
     "text": [
      "traininig Accuracy: metric.roc_auc_Score(y_train,model.predict_proba(x_train)[:,1])\n",
      "0.5332893869479235\n",
      "valid Accuracy: metric.roc_auc_Score(y_valid,model.predict_proba(x_valid)[:,1])\n",
      "0.5151515151515151\n",
      "traininig Accuracy: metric.roc_auc_Score(y_train,model.predict_proba(x_train)[:,1])\n",
      "0.998022412656559\n",
      "valid Accuracy: metric.roc_auc_Score(y_valid,model.predict_proba(x_valid)[:,1])\n",
      "0.5125164690382081\n",
      "traininig Accuracy: metric.roc_auc_Score(y_train,model.predict_proba(x_train)[:,1])\n",
      "0.6855636123928807\n",
      "valid Accuracy: metric.roc_auc_Score(y_valid,model.predict_proba(x_valid)[:,1])\n",
      "0.5059288537549407\n"
     ]
    }
   ],
   "source": [
    "model=[LogisticRegression(),DecisionTreeClassifier(),KNeighborsClassifier()]\n",
    "for i in range(3):\n",
    "    model[i].max_iter=200000\n",
    "    model[i].fit(x_train,y_train)\n",
    "    model[i].score(x_valid,y_valid)\n",
    "    print('traininig Accuracy:','metric.roc_auc_Score(y_train,model.predict_proba(x_train)[:,1])')\n",
    "    print( model[i].score(x_train,y_train))\n",
    "    print('valid Accuracy:','metric.roc_auc_Score(y_valid,model.predict_proba(x_valid)[:,1])')\n",
    "    print( model[i].score(x_valid,y_valid))\n"
   ]
  }
 ],
 "metadata": {
  "kernelspec": {
   "display_name": "base",
   "language": "python",
   "name": "python3"
  },
  "language_info": {
   "codemirror_mode": {
    "name": "ipython",
    "version": 3
   },
   "file_extension": ".py",
   "mimetype": "text/x-python",
   "name": "python",
   "nbconvert_exporter": "python",
   "pygments_lexer": "ipython3",
   "version": "3.8.8"
  }
 },
 "nbformat": 4,
 "nbformat_minor": 2
}
